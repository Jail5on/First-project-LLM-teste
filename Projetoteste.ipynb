{
  "nbformat": 4,
  "nbformat_minor": 0,
  "metadata": {
    "colab": {
      "provenance": [],
      "authorship_tag": "ABX9TyMsXW6Pu/5ZK8Tw3XBxcryJ",
      "include_colab_link": true
    },
    "kernelspec": {
      "name": "python3",
      "display_name": "Python 3"
    },
    "language_info": {
      "name": "python"
    }
  },
  "cells": [
    {
      "cell_type": "markdown",
      "metadata": {
        "id": "view-in-github",
        "colab_type": "text"
      },
      "source": [
        "<a href=\"https://colab.research.google.com/github/Jail5on/First-project-LLM-teste/blob/main/Projetoteste.ipynb\" target=\"_parent\"><img src=\"https://colab.research.google.com/assets/colab-badge.svg\" alt=\"Open In Colab\"/></a>"
      ]
    },
    {
      "cell_type": "markdown",
      "source": [
        "Instalando o SDK do Google"
      ],
      "metadata": {
        "id": "WXZ4mWvAAly7"
      }
    },
    {
      "cell_type": "code",
      "execution_count": 1,
      "metadata": {
        "id": "A2w7zacrAiHc"
      },
      "outputs": [],
      "source": [
        "!pip install -q -U google-generativeai"
      ]
    },
    {
      "cell_type": "markdown",
      "source": [
        "Configurando a API Key"
      ],
      "metadata": {
        "id": "MKS1HOygBJlz"
      }
    },
    {
      "cell_type": "code",
      "source": [
        "import google.generativeai as genai\n",
        "from google.colab import userdata\n",
        "\n",
        "api_key = userdata.get('secret_api_key')\n",
        "genai.configure(api_key=api_key)"
      ],
      "metadata": {
        "id": "ygdiiNmdA5zv"
      },
      "execution_count": 2,
      "outputs": []
    },
    {
      "cell_type": "markdown",
      "source": [
        "Listar os modelos disponíveis"
      ],
      "metadata": {
        "id": "pE6xL1qSBCIr"
      }
    },
    {
      "cell_type": "code",
      "source": [
        "for m in genai.list_models():\n",
        "  if 'generateContent' in m.supported_generation_methods:\n",
        "    print(m.name)"
      ],
      "metadata": {
        "colab": {
          "base_uri": "https://localhost:8080/",
          "height": 138
        },
        "id": "Be5a1GdIA973",
        "outputId": "245a4323-1d84-415b-e90d-f04785557520"
      },
      "execution_count": 4,
      "outputs": [
        {
          "output_type": "stream",
          "name": "stdout",
          "text": [
            "models/gemini-1.0-pro\n",
            "models/gemini-1.0-pro-001\n",
            "models/gemini-1.0-pro-latest\n",
            "models/gemini-1.0-pro-vision-latest\n",
            "models/gemini-1.5-pro-latest\n",
            "models/gemini-pro\n",
            "models/gemini-pro-vision\n"
          ]
        }
      ]
    },
    {
      "cell_type": "code",
      "source": [
        "g_config = {\n",
        "    \"candidate_count\": 1,\n",
        "    \"temperature\": 0.5\n",
        "}"
      ],
      "metadata": {
        "id": "osV1NF1fCypW"
      },
      "execution_count": 8,
      "outputs": []
    },
    {
      "cell_type": "code",
      "source": [
        "s_settings = {\n",
        "    \"HARASSMENT\": \"BLOCK_NONE\",\n",
        "    \"HATE\": \"BLOCK_NONE\",\n",
        "    \"SEXUAL\": \"BLOCK_NONE\",\n",
        "    \"DANGEROUS\": \"BLOCK_NONE\"\n",
        "}"
      ],
      "metadata": {
        "id": "phg4vGnlEDZi"
      },
      "execution_count": 9,
      "outputs": []
    },
    {
      "cell_type": "markdown",
      "source": [
        "Inicializando o modelo"
      ],
      "metadata": {
        "id": "nkzlix5WFDIW"
      }
    },
    {
      "cell_type": "code",
      "source": [
        "model = genai.GenerativeModel(model_name=\"gemini-1.0-pro\",\n",
        "                              generation_config=g_config,\n",
        "                              safety_settings=s_settings)"
      ],
      "metadata": {
        "id": "t85FgP5TFFqu"
      },
      "execution_count": 10,
      "outputs": []
    },
    {
      "cell_type": "code",
      "source": [
        "response = model.generate_content(\"Início rápido de aprendizagem de conteúdo sobre IA.\")\n",
        "print(response.text)"
      ],
      "metadata": {
        "colab": {
          "base_uri": "https://localhost:8080/",
          "height": 869
        },
        "id": "B3tUNMRQGJHN",
        "outputId": "fef33d64-7370-4172-c07d-5292aff1199f"
      },
      "execution_count": 16,
      "outputs": [
        {
          "output_type": "stream",
          "name": "stdout",
          "text": [
            "**Início Rápido de Aprendizagem de Conteúdo sobre IA**\n",
            "\n",
            "**Introdução**\n",
            "\n",
            "* O que é Inteligência Artificial (IA)?\n",
            "* Tipos de IA: aprendizado de máquina, aprendizado profundo, processamento de linguagem natural\n",
            "* Aplicações da IA em vários setores\n",
            "\n",
            "**Aprendizado de Máquina**\n",
            "\n",
            "* Conceitos básicos: supervisão, não supervisão, reforço\n",
            "* Algoritmos comuns: regressão, classificação, agrupamento\n",
            "* Avaliação de modelos de aprendizado de máquina\n",
            "\n",
            "**Aprendizado Profundo**\n",
            "\n",
            "* Redes neurais: perceptrons, redes neurais convolucionais, redes neurais recorrentes\n",
            "* Treinamento de redes neurais: retropropagação, otimização de gradiente\n",
            "* Aplicações de aprendizado profundo: visão computacional, processamento de linguagem natural\n",
            "\n",
            "**Processamento de Linguagem Natural (PNL)**\n",
            "\n",
            "* Fundamentos da PNL: tokenização, análise sintática, análise semântica\n",
            "* Técnicas de PNL: geração de linguagem natural, reconhecimento de fala, tradução automática\n",
            "* Aplicações da PNL: chatbots, resumos automáticos\n",
            "\n",
            "**Aplicações da IA**\n",
            "\n",
            "* Saúde: diagnóstico, tratamento personalizado\n",
            "* Finanças: detecção de fraude, negociação algorítmica\n",
            "* Transporte: veículos autônomos, otimização de rotas\n",
            "* Varejo: recomendações personalizadas, previsão de demanda\n",
            "\n",
            "**Ética e Implicações da IA**\n",
            "\n",
            "* Viés e discriminação em algoritmos de IA\n",
            "* Perda de empregos e automação\n",
            "* Regulamentação e governança da IA\n",
            "\n",
            "**Recursos de Aprendizagem**\n",
            "\n",
            "* Cursos online: Coursera, edX, Udemy\n",
            "* Tutoriais e documentação: TensorFlow, PyTorch, Scikit-learn\n",
            "* Comunidades online: Stack Overflow, Kaggle\n",
            "\n",
            "**Conclusão**\n",
            "\n",
            "Compreender os conceitos fundamentais da IA é essencial para navegar no cenário tecnológico em constante evolução. Ao explorar os recursos fornecidos, você pode desenvolver uma base sólida em aprendizado de conteúdo sobre IA e se equipar para aproveitar seu potencial transformador.\n"
          ]
        }
      ]
    },
    {
      "cell_type": "markdown",
      "source": [
        "Construindo um chatbot"
      ],
      "metadata": {
        "id": "eVvfqpptckyQ"
      }
    },
    {
      "cell_type": "code",
      "source": [
        "chat = model.start_chat(history=[])"
      ],
      "metadata": {
        "id": "2Dd0gClCGuxc"
      },
      "execution_count": 12,
      "outputs": []
    },
    {
      "cell_type": "code",
      "source": [
        "prompt = input(\"Esperando comando...:  \")\n",
        "\n",
        "while prompt != \"fim\":\n",
        "  response = chat.send_message(prompt)\n",
        "  print(\"Resposta: \", response.text, \"\\n\")\n",
        "  prompt = input(\"Esperando comando...:  \")\n"
      ],
      "metadata": {
        "colab": {
          "base_uri": "https://localhost:8080/"
        },
        "id": "izW7oBrGHIB3",
        "outputId": "78e88550-a4bf-4bb0-df21-7b008a546827"
      },
      "execution_count": 14,
      "outputs": [
        {
          "name": "stdout",
          "output_type": "stream",
          "text": [
            "Resposta:  Seul \n",
            "\n",
            "Resposta:  Bibimbap \n",
            "\n",
            "Esperando comando...:  fim\n"
          ]
        }
      ]
    }
  ]
}